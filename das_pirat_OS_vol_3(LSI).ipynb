{
  "nbformat": 4,
  "nbformat_minor": 0,
  "metadata": {
    "colab": {
      "provenance": [],
      "include_colab_link": true
    },
    "kernelspec": {
      "name": "python3",
      "display_name": "Python 3"
    },
    "language_info": {
      "name": "python"
    }
  },
  "cells": [
    {
      "cell_type": "markdown",
      "metadata": {
        "id": "view-in-github",
        "colab_type": "text"
      },
      "source": [
        "<a href=\"https://colab.research.google.com/github/BrainyHaron/DigitalBreakthrough/blob/Brainy's_Projects/das_pirat_OS_vol_3(LSI).ipynb\" target=\"_parent\"><img src=\"https://colab.research.google.com/assets/colab-badge.svg\" alt=\"Open In Colab\"/></a>"
      ]
    },
    {
      "cell_type": "code",
      "execution_count": 37,
      "metadata": {
        "colab": {
          "base_uri": "https://localhost:8080/"
        },
        "id": "fJ9pgAtxmLEE",
        "outputId": "44bfab89-4b40-4d89-cb7f-98e4930cd7f9"
      },
      "outputs": [
        {
          "output_type": "stream",
          "name": "stdout",
          "text": [
            "Requirement already satisfied: nltk in /usr/local/lib/python3.10/dist-packages (3.8.1)\n",
            "Requirement already satisfied: click in /usr/local/lib/python3.10/dist-packages (from nltk) (8.1.7)\n",
            "Requirement already satisfied: joblib in /usr/local/lib/python3.10/dist-packages (from nltk) (1.3.2)\n",
            "Requirement already satisfied: regex>=2021.8.3 in /usr/local/lib/python3.10/dist-packages (from nltk) (2023.6.3)\n",
            "Requirement already satisfied: tqdm in /usr/local/lib/python3.10/dist-packages (from nltk) (4.66.1)\n",
            "Requirement already satisfied: scipy in /usr/local/lib/python3.10/dist-packages (1.10.1)\n",
            "Requirement already satisfied: numpy<1.27.0,>=1.19.5 in /usr/local/lib/python3.10/dist-packages (from scipy) (1.23.5)\n"
          ]
        }
      ],
      "source": [
        "import numpy as np\n",
        "!pip install nltk\n",
        "!pip install scipy\n",
        "from nltk.stem import *\n",
        "from nltk.stem.porter import *\n",
        "stemmer = PorterStemmer()\n",
        "import os\n",
        "import json\n",
        "import pandas as pd\n",
        "from google.colab import drive\n",
        "# из библиотеки google.colab импортируем класс files\n",
        "from google.colab import files\n",
        "import pandas as pd\n",
        "import math"
      ]
    },
    {
      "cell_type": "code",
      "source": [
        "drive.mount('/content/drive')"
      ],
      "metadata": {
        "colab": {
          "base_uri": "https://localhost:8080/"
        },
        "id": "A8uvY4wOm50R",
        "outputId": "b8d33eca-68f9-410f-bdf7-5a149bfe5668"
      },
      "execution_count": 38,
      "outputs": [
        {
          "output_type": "stream",
          "name": "stdout",
          "text": [
            "Drive already mounted at /content/drive; to attempt to forcibly remount, call drive.mount(\"/content/drive\", force_remount=True).\n"
          ]
        }
      ]
    },
    {
      "cell_type": "code",
      "source": [
        "os.chdir(\"/content/drive/MyDrive/das_pirat_OS/labeled\")\n",
        "content = os.listdir()"
      ],
      "metadata": {
        "id": "VPypS_sym-nm"
      },
      "execution_count": 39,
      "outputs": []
    },
    {
      "cell_type": "code",
      "source": [
        "\"docs = '/content/drive/MyDrive/das_pirat_OS/labeled'\""
      ],
      "metadata": {
        "id": "B2P_c9rj206n",
        "colab": {
          "base_uri": "https://localhost:8080/",
          "height": 36
        },
        "outputId": "56e84a9b-e094-46cd-fdfd-31c0744432a2"
      },
      "execution_count": 40,
      "outputs": [
        {
          "output_type": "execute_result",
          "data": {
            "text/plain": [
              "\"docs = '/content/drive/MyDrive/das_pirat_OS/labeled'\""
            ],
            "application/vnd.google.colaboratory.intrinsic+json": {
              "type": "string"
            }
          },
          "metadata": {},
          "execution_count": 40
        }
      ]
    },
    {
      "cell_type": "code",
      "source": [
        "class LSI(object):\n",
        "\tdef __init__(self, stopwords, ignorechars, docs):\n",
        "\t\tself.wdict = {}\n",
        "\t\tself.dictionary = []\n",
        "\t\tself.docs = []\n",
        "\t\tself.stopwords = stopwords\n",
        "\t\tif type(ignorechars) == str: ignorechars = ignorechars.encode('utf-8')\n",
        "\t\tself.ignorechars = ignorechars\n",
        "\t\tfor doc in docs: self.add_doc(doc)\n",
        "\n",
        "\tdef prepare(self):\n",
        "\t\tself.build()\n",
        "\t\tself.calc()\n",
        "\n",
        "\tdef dic(self, word, add = False):\n",
        "\t\tif type(word) == str: word = word.encode('utf-8')\n",
        "\t\t# чистим от лишних символом\n",
        "\t\tword = word.lower().translate(None, self.ignorechars)\n",
        "\t\tword = word.decode('utf-8')\n",
        "\t\t# приводим к начальной форме\n",
        "\t\tword = stemmer.stem(word)\n",
        "\t\t# если слово есть в словаре возвращаем его номер\n",
        "\t\tif word in self.dictionary: return self.dictionary.index(word)\n",
        "\t\telse:\n",
        "\t\t\t# если нет и стоит флаг автоматически добавлять то пополняем словари возвращвем код слова\n",
        "\t\t\tif add:\n",
        "\t\t\t\t#self.ready = False\n",
        "\t\t\t\tself.dictionary.append(word)\n",
        "\t\t\t\treturn len(self.dictionary) - 1\n",
        "\t\t\telse:\n",
        "\t\t\t\treturn None\n",
        "\n",
        "\n",
        "\tdef add_doc(self, doc):\n",
        "\t\twords = [self.dic(word, True) for word in doc.lower().split()]\n",
        "\t\tself.docs.append(words)\n",
        "\t\tfor word in words:\n",
        "\t\t\tif word in self.stopwords:\n",
        "\t\t\t\tcontinue\n",
        "\t\t\telif word in self.wdict:\n",
        "\t\t\t\tself.wdict[word].append(len(self.docs) - 1)\n",
        "\t\t\telse:\n",
        "\t\t\t\tself.wdict[word] = [len(self.docs) - 1]\n",
        "\n",
        "\tdef build(self):\n",
        "      # убираем одиночные слова\n",
        "\t\tself.keys = [k for k in self.wdict.keys() if len(self.wdict[k]) > 0]\n",
        "\t\tself.keys.sort()\n",
        "      # создаём пустую матрицу\n",
        "\t\tself.A = np.zeros([len(self.keys), len(self.docs)])\n",
        "      # наполняем эту матрицу\n",
        "\t\tfor i, k in enumerate(self.keys):\n",
        "\t\t\tfor d in self.wdict[k]:\n",
        "\t\t\t\tself.A[i,d] += 1\n",
        "\n",
        "#Вычисление U, S Vt - матриц\n",
        "\tdef calc(self):\n",
        "\t\tself.U, self.S, self.Vt = np.linalg.svd(self.A)\n",
        "\n",
        "\n",
        "\tdef TFIDF(self):\n",
        "      # всего кол-во слов на документ\n",
        "\t\twordsPerDoc = sum(self.A, axis=0)\n",
        "      # сколько документов приходится на слово\n",
        "\t\tdocsPerWord = sum(np.asarray(self.A > 0, 'i'), axis=1)\n",
        "\t\trows, cols = self.A.shape\n",
        "\t\tfor i in range(rows):\n",
        "\t\t\tfor j in range(cols):\n",
        "\t\t\t\tself.A[i,j] = (self.A[i,j] / wordsPerDoc[j]) * np.log(float(cols) / docsPerWord[i])\n",
        "\n",
        "\tdef dump_src(self):\n",
        "\t\tself.prepare()\n",
        "\t\tprint ('Здесь представлен расчет матрицы ')\n",
        "\t\tfor i, row in enumerate(self.A):\n",
        "\t\t\tprint (self.dictionary[i], row)\n",
        "\n",
        "\tdef print_svd(self):\n",
        "\t\tself.prepare()\n",
        "\t\tprint ('Здесь сингулярные значения')\n",
        "\t\tprint (self.S)\n",
        "\t\tprint ('Здесь первые 3 колонки U матрица ')\n",
        "\t\tfor i, row in enumerate(self.U):\n",
        "\t\t\tprint (self.dictionary[self.keys[i]], row[0:3])\n",
        "\t\tprint ('Здесь первые 3 строчки Vt матрица')\n",
        "\t\tprint (-1*self.Vt[0:3, :])\n",
        "\n",
        "\tdef find(self, word):\n",
        "\t\tself.prepare()\n",
        "\t\tidx = self.dic(word)\n",
        "\t\tif not idx:\n",
        "\t\t\tprint('слово не встречается')\n",
        "\t\t\treturn []\n",
        "\t\tif not idx in self.keys:\n",
        "\t\t\tprint('слово отброшено как не имеющее значения которое через stopwords')\n",
        "\t\t\treturn []\n",
        "\t\tidx = self.keys.index(idx)\n",
        "\t\tprint('word --- '), word, '=', self.dictionary[self.keys[idx]], '.\\n'\n",
        "\t\t# получаем координаты слова\n",
        "\t\twx, wy = (-1 * self.U[:, 1:3])[idx]\n",
        "\t\tprint(('word{}\\t{:0.2f}\\t{:0.2f}\\t{}\\n').format(idx, wx, wy, word)) #:0.2f\n",
        "\t\tarts = []\n",
        "\t\txx, yy = -1 * self.Vt[1:3, :]\n",
        "\t\tfor k, v in enumerate(self.docs):\n",
        "\t\t\t# получаем координаты документа\n",
        "\t\t\tax, ay = xx[k], yy[k]\n",
        "\t\t\t#вычисляем расстояние между словом и документом\n",
        "\t\t\tdx, dy = float(wx - ax), float(wy - ay)\n",
        "\t\t\tarts.append((k, v, ax, ay, np.sqrt(dx * dx + dy * dy)))\n",
        "\t\t# возвращаем отсортированный по расстоянию список\n",
        "\t\treturn sorted(arts, key = lambda a: a[4])\n"
      ],
      "metadata": {
        "id": "paI5uM67qW30"
      },
      "execution_count": 41,
      "outputs": []
    },
    {
      "cell_type": "code",
      "source": [
        "\n",
        "#path = '/content/drive/MyDrive/das_pirat_OS/labeled'\n",
        "#full_list3=[]\n",
        "\n",
        "docs =[\n",
        "\t\"Британская полиция знает о местонахождении основателя WikiLeaks\",\n",
        "\t\"В суде США США начинается процесс против россиянина, рассылавшего спам\",\n",
        "\t\"Церемонию вручения Нобелевской премии мира бойкотируют 19 стран\",\n",
        "\t\"В Великобритании арестован основатель сайта Wikileaks Джулиан Ассандж\",\n",
        "\t\"Украина игнорирует церемонию вручения Нобелевской премии\",\n",
        "\t\"Шведский суд отказался рассматривать апелляцию основателя Wikileaks\",\n",
        "\t\"НАТО и США разработали планы обороны стран Балтии против России\",\n",
        "\t\"Полиция Великобритании нашла основателя WikiLeaks, но, не арестовала\",\n",
        "\t\"В Стокгольме и Осло сегодня состоится вручение Нобелевских премий\"\n",
        "]\n",
        "#word = \"США\"\n",
        "ignorechars = ''',:'!'''\n",
        "lsa = LSI([], ignorechars, docs)\n",
        "lsa.build()\n",
        "lsa.dump_src()\n",
        "lsa.calc()\n",
        "lsa.print_svd()\n",
        "\n",
        "for res in lsa.find(word):\n",
        "\tprint (res[0], res[4], res[1], docs[res[0]])"
      ],
      "metadata": {
        "colab": {
          "base_uri": "https://localhost:8080/"
        },
        "id": "2pUrfIiQpZyV",
        "outputId": "1392975f-9691-4645-8c19-17c079f19a88"
      },
      "execution_count": 44,
      "outputs": [
        {
          "output_type": "stream",
          "name": "stdout",
          "text": [
            "Здесь представлен расчет матрицы \n",
            "британская [1. 0. 0. 0. 0. 0. 0. 0. 0.]\n",
            "полиция [1. 0. 0. 0. 0. 0. 0. 1. 0.]\n",
            "знает [1. 0. 0. 0. 0. 0. 0. 0. 0.]\n",
            "о [1. 0. 0. 0. 0. 0. 0. 0. 0.]\n",
            "местонахождении [1. 0. 0. 0. 0. 0. 0. 0. 0.]\n",
            "основателя [1. 0. 0. 0. 0. 1. 0. 1. 0.]\n",
            "wikileak [1. 0. 0. 1. 0. 1. 0. 1. 0.]\n",
            "в [0. 1. 0. 1. 0. 0. 0. 0. 1.]\n",
            "суде [0. 1. 0. 0. 0. 0. 0. 0. 0.]\n",
            "сша [0. 2. 0. 0. 0. 0. 1. 0. 0.]\n",
            "начинается [0. 1. 0. 0. 0. 0. 0. 0. 0.]\n",
            "процесс [0. 1. 0. 0. 0. 0. 0. 0. 0.]\n",
            "против [0. 1. 0. 0. 0. 0. 1. 0. 0.]\n",
            "россиянина [0. 1. 0. 0. 0. 0. 0. 0. 0.]\n",
            "рассылавшего [0. 1. 0. 0. 0. 0. 0. 0. 0.]\n",
            "спам [0. 1. 0. 0. 0. 0. 0. 0. 0.]\n",
            "церемонию [0. 0. 1. 0. 1. 0. 0. 0. 0.]\n",
            "вручения [0. 0. 1. 0. 1. 0. 0. 0. 0.]\n",
            "нобелевской [0. 0. 1. 0. 1. 0. 0. 0. 0.]\n",
            "премии [0. 0. 1. 0. 1. 0. 0. 0. 0.]\n",
            "мира [0. 0. 1. 0. 0. 0. 0. 0. 0.]\n",
            "бойкотируют [0. 0. 1. 0. 0. 0. 0. 0. 0.]\n",
            "19 [0. 0. 1. 0. 0. 0. 0. 0. 0.]\n",
            "стран [0. 0. 1. 0. 0. 0. 1. 0. 0.]\n",
            "великобритании [0. 0. 0. 1. 0. 0. 0. 1. 0.]\n",
            "арестован [0. 0. 0. 1. 0. 0. 0. 0. 0.]\n",
            "основатель [0. 0. 0. 1. 0. 0. 0. 0. 0.]\n",
            "сайта [0. 0. 0. 1. 0. 0. 0. 0. 0.]\n",
            "джулиан [0. 0. 0. 1. 0. 0. 0. 0. 0.]\n",
            "ассандж [0. 0. 0. 1. 0. 0. 0. 0. 0.]\n",
            "украина [0. 0. 0. 0. 1. 0. 0. 0. 0.]\n",
            "игнорирует [0. 0. 0. 0. 1. 0. 0. 0. 0.]\n",
            "шведский [0. 0. 0. 0. 0. 1. 0. 0. 0.]\n",
            "суд [0. 0. 0. 0. 0. 1. 0. 0. 0.]\n",
            "отказался [0. 0. 0. 0. 0. 1. 0. 0. 0.]\n",
            "рассматривать [0. 0. 0. 0. 0. 1. 0. 0. 0.]\n",
            "апелляцию [0. 0. 0. 0. 0. 1. 0. 0. 0.]\n",
            "нато [0. 0. 0. 0. 0. 0. 1. 0. 0.]\n",
            "и [0. 0. 0. 0. 0. 0. 1. 0. 1.]\n",
            "разработали [0. 0. 0. 0. 0. 0. 1. 0. 0.]\n",
            "планы [0. 0. 0. 0. 0. 0. 1. 0. 0.]\n",
            "обороны [0. 0. 0. 0. 0. 0. 1. 0. 0.]\n",
            "балтии [0. 0. 0. 0. 0. 0. 1. 0. 0.]\n",
            "россии [0. 0. 0. 0. 0. 0. 1. 0. 0.]\n",
            "нашла [0. 0. 0. 0. 0. 0. 0. 1. 0.]\n",
            "но [0. 0. 0. 0. 0. 0. 0. 1. 0.]\n",
            "не [0. 0. 0. 0. 0. 0. 0. 1. 0.]\n",
            "арестовала [0. 0. 0. 0. 0. 0. 0. 1. 0.]\n",
            "стокгольме [0. 0. 0. 0. 0. 0. 0. 0. 1.]\n",
            "осло [0. 0. 0. 0. 0. 0. 0. 0. 1.]\n",
            "сегодня [0. 0. 0. 0. 0. 0. 0. 0. 1.]\n",
            "состоится [0. 0. 0. 0. 0. 0. 0. 0. 1.]\n",
            "вручение [0. 0. 0. 0. 0. 0. 0. 0. 1.]\n",
            "нобелевских [0. 0. 0. 0. 0. 0. 0. 0. 1.]\n",
            "премий [0. 0. 0. 0. 0. 0. 0. 0. 1.]\n",
            "Здесь сингулярные значения\n",
            "[3.84848082 3.62208637 3.34550271 2.97745589 2.82667245 2.54330078\n",
            " 2.33011916 2.07610957 1.67747175]\n",
            "Здесь первые 3 колонки U матрица \n",
            "британская [-0.02603537 -0.1363011   0.0132785 ]\n",
            "полиция [-0.06036167 -0.30225912  0.02732855]\n",
            "знает [-0.02603537 -0.1363011   0.0132785 ]\n",
            "о [-0.02603537 -0.1363011   0.0132785 ]\n",
            "местонахождении [-0.02603537 -0.1363011   0.0132785 ]\n",
            "основателя [-0.08289822 -0.41812081  0.03833813]\n",
            "wikileak [-0.13820346 -0.5226193   0.02983743]\n",
            "в [-0.31475389 -0.05540069 -0.08802642]\n",
            "суде [-0.19269943  0.04948332 -0.05993908]\n",
            "сша [-0.52526086  0.15239366 -0.09437989]\n",
            "начинается [-0.19269943  0.04948332 -0.05993908]\n",
            "процесс [-0.19269943  0.04948332 -0.05993908]\n",
            "против [-0.33256143  0.10291034 -0.03444081]\n",
            "россиянина [-0.19269943  0.04948332 -0.05993908]\n",
            "рассылавшего [-0.19269943  0.04948332 -0.05993908]\n",
            "спам [-0.19269943  0.04948332 -0.05993908]\n",
            "церемонию [-0.04071345  0.02905275  0.40684206]\n",
            "вручения [-0.04071345  0.02905275  0.40684206]\n",
            "нобелевской [-0.04071345  0.02905275  0.40684206]\n",
            "премии [-0.04071345  0.02905275  0.40684206]\n",
            "мира [-0.02800123  0.01860166  0.22980774]\n",
            "бойкотируют [-0.02800123  0.01860166  0.22980774]\n",
            "19 [-0.02800123  0.01860166  0.22980774]\n",
            "стран [-0.16786322  0.07202868  0.25530602]\n",
            "великобритании [-0.08963153 -0.27045651  0.00554936]\n",
            "арестован [-0.05530524 -0.10449849 -0.0085007 ]\n",
            "основатель [-0.05530524 -0.10449849 -0.0085007 ]\n",
            "сайта [-0.05530524 -0.10449849 -0.0085007 ]\n",
            "джулиан [-0.05530524 -0.10449849 -0.0085007 ]\n",
            "ассандж [-0.05530524 -0.10449849 -0.0085007 ]\n",
            "украина [-0.01271222  0.01045109  0.17703432]\n",
            "игнорирует [-0.01271222  0.01045109  0.17703432]\n",
            "шведский [-0.02253655 -0.11586169  0.01100957]\n",
            "суд [-0.02253655 -0.11586169  0.01100957]\n",
            "отказался [-0.02253655 -0.11586169  0.01100957]\n",
            "рассматривать [-0.02253655 -0.11586169  0.01100957]\n",
            "апелляцию [-0.02253655 -0.11586169  0.01100957]\n",
            "нато [-0.139862    0.05342702  0.02549828]\n",
            "и [-0.20661121  0.0530415   0.00591164]\n",
            "разработали [-0.139862    0.05342702  0.02549828]\n",
            "планы [-0.139862    0.05342702  0.02549828]\n",
            "обороны [-0.139862    0.05342702  0.02549828]\n",
            "балтии [-0.139862    0.05342702  0.02549828]\n",
            "россии [-0.139862    0.05342702  0.02549828]\n",
            "нашла [-0.0343263  -0.16595802  0.01405006]\n",
            "но [-0.0343263  -0.16595802  0.01405006]\n",
            "не [-0.0343263  -0.16595802  0.01405006]\n",
            "арестовала [-0.0343263  -0.16595802  0.01405006]\n",
            "стокгольме [-0.06674922 -0.00038552 -0.01958663]\n",
            "осло [-0.06674922 -0.00038552 -0.01958663]\n",
            "сегодня [-0.06674922 -0.00038552 -0.01958663]\n",
            "состоится [-0.06674922 -0.00038552 -0.01958663]\n",
            "вручение [-0.06674922 -0.00038552 -0.01958663]\n",
            "нобелевских [-0.06674922 -0.00038552 -0.01958663]\n",
            "премий [-0.06674922 -0.00038552 -0.01958663]\n",
            "Здесь первые 3 строчки Vt матрица\n",
            "[[ 0.10019664  0.74160006  0.10776219  0.21284114  0.04892274  0.08673148\n",
            "   0.53825621  0.13210409  0.25688309]\n",
            " [ 0.49369437 -0.17923286 -0.06737683  0.37850255 -0.03785476  0.41966105\n",
            "  -0.19351728  0.60111427  0.00139638]\n",
            " [-0.04442325  0.20052637 -0.76882241  0.02843911 -0.5922688  -0.03683256\n",
            "  -0.08530456 -0.0470045   0.06552713]]\n",
            "word --- \n",
            "word9\t-0.15\t0.09\tСША\n",
            "\n",
            "1 0.10948706621989615 [7, 8, 9, 9, 10, 11, 12, 13, 14, 15] В суде США США начинается процесс против россиянина, рассылавшего спам\n",
            "8 0.15647319116417505 [7, 48, 38, 49, 50, 51, 52, 53, 54] В Стокгольме и Осло сегодня состоится вручение Нобелевских премий\n",
            "6 0.18433028351928651 [37, 38, 9, 39, 40, 41, 23, 42, 12, 43] НАТО и США разработали планы обороны стран Балтии против России\n",
            "3 0.5349756809704918 [7, 24, 25, 26, 27, 6, 28, 29] В Великобритании арестован основатель сайта Wikileaks Джулиан Ассандж\n",
            "5 0.5869099587624124 [32, 33, 34, 35, 36, 5, 6] Шведский суд отказался рассматривать апелляцию основателя Wikileaks\n",
            "0 0.6608298252662375 [0, 1, 2, 3, 4, 5, 6] Британская полиция знает о местонахождении основателя WikiLeaks\n",
            "4 0.6961361849442234 [30, 31, 16, 17, 18, 19] Украина игнорирует церемонию вручения Нобелевской премии\n",
            "7 0.7666575202178302 [1, 24, 44, 5, 6, 45, 46, 47] Полиция Великобритании нашла основателя WikiLeaks, но, не арестовала\n",
            "2 0.8673788571998022 [16, 17, 18, 19, 20, 21, 22, 23] Церемонию вручения Нобелевской премии мира бойкотируют 19 стран\n"
          ]
        }
      ]
    }
  ]
}